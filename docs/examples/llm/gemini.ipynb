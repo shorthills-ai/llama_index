{
 "cells": [
  {
   "cell_type": "markdown",
   "metadata": {},
   "source": [
    "<a href=\"https://colab.research.google.com/github/run-llama/llama_index/blob/main/docs/examples/llm/gemini.ipynb\" target=\"_parent\"><img src=\"https://colab.research.google.com/assets/colab-badge.svg\" alt=\"Open In Colab\"/></a>"
   ]
  },
  {
   "cell_type": "markdown",
   "metadata": {},
   "source": [
    "# Gemini"
   ]
  },
  {
   "cell_type": "markdown",
   "metadata": {},
   "source": [
    "In this notebook, we show how to use the Gemini text models from Google in LlamaIndex. Check out the [Gemini site](https://ai.google.dev/) or the [announcement](https://deepmind.google/technologies/gemini/).\n",
    "\n",
    "If you're opening this Notebook on colab, you will need to install LlamaIndex 🦙 and the Gemini Python SDK."
   ]
  },
  {
   "cell_type": "code",
   "execution_count": null,
   "metadata": {},
   "outputs": [],
   "source": [
    "!pip install -q llama-index google-generativeai"
   ]
  },
  {
   "cell_type": "markdown",
   "metadata": {},
   "source": [
    "## Basic Usage\n",
    "\n",
    "You will need to get an API key from [Google AI Studio](https://makersuite.google.com/app/apikey). Once you have one, you can either pass it explicity to the model, or use the `GOOGLE_API_KEY` environment variable."
   ]
  },
  {
   "cell_type": "code",
   "execution_count": null,
   "metadata": {},
   "outputs": [],
   "source": [
    "%env GOOGLE_API_KEY=..."
   ]
  },
  {
   "cell_type": "markdown",
   "metadata": {},
   "source": [
    "#### Call `complete` with a prompt"
   ]
  },
  {
   "cell_type": "code",
   "execution_count": null,
   "metadata": {},
   "outputs": [
    {
     "name": "stdout",
     "output_type": "stream",
     "text": [
      "In a world of wonder, where dreams take flight,\n",
      "There exists a backpack, a magical sight.\n",
      "With straps of starlight and a zipper of gold,\n",
      "It holds secrets untold, stories yet to unfold.\n",
      "\n",
      "Its fabric shimmers with colors so bright,\n",
      "Reflecting the rainbows that dance in the light.\n",
      "Each pocket a portal to realms unknown,\n",
      "Where fantasies flourish and wonders are sown.\n",
      "\n",
      "A bookworm's paradise, a writer's delight,\n",
      "Its pages whisper tales that ignite.\n",
      "With a touch of its handle, the words come alive,\n",
      "As characters leap from the pages and thrive.\n",
      "\n",
      "For the artist's soul, a canvas it bears,\n",
      "Where colors dance freely, erasing all cares.\n",
      "A stroke of a brush, a burst of hues,\n",
      "And masterpieces emerge, as dreams come true.\n",
      "\n",
      "For the adventurer's heart, a map it reveals,\n",
      "Guiding through forests and over rough hills.\n",
      "With a compass of stars and a lantern's warm glow,\n",
      "It leads to treasures that only the brave will know.\n",
      "\n",
      "But beware, dear traveler, for within its embrace,\n",
      "Lies a power that can both heal and erase.\n",
      "For the magic backpack, though wondrous and grand,\n",
      "Requires a heart that's pure and a steady hand.\n",
      "\n",
      "So, if you should find it, this backpack of lore,\n",
      "Remember its secrets, forever adore.\n",
      "With kindness and courage, its magic will bloom,\n",
      "And your life will be filled with wonder and gloom.\n"
     ]
    }
   ],
   "source": [
    "from llama_index.llms import Gemini\n",
    "\n",
    "resp = Gemini().complete(\"Write a poem about a magic backpack\")\n",
    "print(resp)"
   ]
  },
  {
   "cell_type": "markdown",
   "metadata": {},
   "source": [
    "#### Call `chat` with a list of messages"
   ]
  },
  {
   "cell_type": "code",
   "execution_count": null,
   "metadata": {},
   "outputs": [
    {
     "name": "stdout",
     "output_type": "stream",
     "text": [
      "assistant: Ahoy there, matey! Let's set sail on a culinary adventure and find the perfect dinner for ye. Here be some options to consider:\n",
      "\n",
      "1. **Fish and Chips:** Embark on a classic journey with a hearty portion of golden-fried fish, accompanied by crispy chips. Dip 'em in tartar sauce and let the flavors dance on yer tongue.\n",
      "\n",
      "2. **Seafood Paella:** Dive into a vibrant Spanish feast with paella, a delightful mix of rice, seafood treasures like shrimp, mussels, and calamari, all simmering in a flavorful broth.\n",
      "\n",
      "3. **Lobster Roll:** Indulge in a New England delicacy - a succulent lobster roll, where tender lobster meat is nestled in a toasted bun, dressed with butter and a hint of lemon.\n",
      "\n",
      "4. **Grilled Swordfish:** Set your course for a healthier option with grilled swordfish, a firm and flavorful fish that pairs well with a tangy lemon-herb sauce.\n",
      "\n",
      "5. **Coconut Shrimp:** Embark on a tropical adventure with coconut shrimp, where succulent shrimp are coated in a crispy coconut batter and served with a sweet and tangy dipping sauce.\n",
      "\n",
      "6. **Clam Chowder:** Warm yer belly with a classic New England clam chowder, a creamy and flavorful soup brimming with clams, potatoes, and a hint of smoky bacon.\n",
      "\n",
      "7. **Scallops with Risotto:** Dive into a luxurious dish of seared scallops, accompanied by a creamy and indulgent risotto, cooked to perfection with a touch of white wine and Parmesan cheese.\n",
      "\n",
      "8. **Crab Cakes:** Set sail for Maryland with delectable crab cakes, made with fresh crab meat, gently seasoned and pan-fried until golden brown. Serve with a zesty remoulade sauce.\n",
      "\n",
      "9. **Lobster Mac and Cheese:** Embark on a cheesy adventure with lobster mac and cheese, a comforting dish where tender macaroni is smothered in a rich and creamy cheese sauce, studded with succulent lobster chunks.\n",
      "\n",
      "10. **Grilled Salmon with Roasted Vegetables:** Set your course for a healthy and flavorful meal with grilled salmon, cooked to perfection and paired with a vibrant array of roasted vegetables, tossed in olive oil and herbs.\n",
      "\n",
      "No matter what ye choose, make sure it be a feast fit for a pirate king!\n"
     ]
    }
   ],
   "source": [
    "from llama_index.llms import ChatMessage, Gemini\n",
    "\n",
    "messages = [\n",
    "    ChatMessage(role=\"user\", content=\"Hello friend!\"),\n",
    "    ChatMessage(role=\"assistant\", content=\"Yarr what is shakin' matey?\"),\n",
    "    ChatMessage(\n",
    "        role=\"user\", content=\"Help me decide what to have for dinner.\"\n",
    "    ),\n",
    "]\n",
    "resp = Gemini().chat(messages)\n",
    "print(resp)"
   ]
  },
  {
   "cell_type": "markdown",
   "metadata": {},
   "source": [
    "## Streaming"
   ]
  },
  {
   "cell_type": "markdown",
   "metadata": {},
   "source": [
    "Using `stream_complete` endpoint"
   ]
  },
  {
   "cell_type": "code",
   "execution_count": null,
   "metadata": {},
   "outputs": [],
   "source": [
    "from llama_index.llms import Gemini\n",
    "\n",
    "llm = Gemini()\n",
    "resp = llm.stream_complete(\n",
    "    \"The story of Sourcrust, the bread creature, is really interesting. It all started when...\"\n",
    ")"
   ]
  },
  {
   "cell_type": "code",
   "execution_count": null,
   "metadata": {},
   "outputs": [
    {
     "name": "stdout",
     "output_type": "stream",
     "text": [
      "In the heart of a bustling bakery, where the aroma of freshly baked bread filled the air, there lived a remarkable creature named Sourcrust. Sourcrust wasn't your ordinary loaf of bread; he possessed a unique consciousness and a zest for adventure that set him apart from his fellow bread brethren.\n",
      "\n",
      "His journey began on a warm summer morning when a mischievous baker's apprentice, named Tom, decided to experiment with a new sourdough recipe. Tom mixed and kneaded the dough with love and care, unaware that he was creating something extraordinary. As the dough rose and fermented, a spark of life ignited within it, giving birth to Sourcrust.\n",
      "\n",
      "From the moment he opened his eyes, Sourcrust knew he was different. He could see, hear, and feel the world around him in a way that no other bread had ever experienced. Intrigued by his newfound existence, Sourcrust decided to explore the bakery, venturing beyond the confines of his baking tray.\n",
      "\n",
      "As he made his way through the bakery, Sourcrust encountered a cast of colorful characters. There was the wise old baguette, who shared tales of his travels across the world; the shy croissant, who dreamed of becoming a ballerina; and the grumpy rye bread, who always had something to complain about.\n",
      "\n",
      "Sourcrust's adventures took him to every corner of the bakery, from the flour-dusted countertops to the roaring ovens. He learned about the art of baking, the importance of teamwork, and the joy of bringing happiness to people through food.\n",
      "\n",
      "One day, as Sourcrust was exploring the bakery's storeroom, he stumbled upon a secret passage that led to the outside world. Filled with curiosity, he decided to embark on a journey beyond the bakery walls.\n",
      "\n",
      "And so, Sourcrust set off on an epic adventure, encountering new friends, facing challenges, and discovering the wonders of the world. Along the way, he learned the true meaning of friendship, the importance of following his dreams, and the power of kindness.\n",
      "\n",
      "As Sourcrust's journey continued, he became a symbol of hope and inspiration for all creatures, both big and small. His story spread far and wide, reminding everyone that even the most ordinary things can possess extraordinary potential.\n",
      "\n",
      "And so, the tale of Sourcrust, the bread creature, became a beloved legend, passed down from generation to generation, forever inspiring those who dared to dream big and embrace the adventures that life had to offer."
     ]
    }
   ],
   "source": [
    "for r in resp:\n",
    "    print(r.text, end=\"\")"
   ]
  },
  {
   "cell_type": "markdown",
   "metadata": {},
   "source": [
    "Using `stream_chat` endpoint"
   ]
  },
  {
   "cell_type": "code",
   "execution_count": null,
   "metadata": {},
   "outputs": [],
   "source": [
    "from llama_index.llms import Gemini, ChatMessage\n",
    "\n",
    "llm = Gemini()\n",
    "messages = [\n",
    "    ChatMessage(role=\"user\", content=\"Hello friend!\"),\n",
    "    ChatMessage(role=\"assistant\", content=\"Yarr what is shakin' matey?\"),\n",
    "    ChatMessage(\n",
    "        role=\"user\", content=\"Help me decide what to have for dinner.\"\n",
    "    ),\n",
    "]\n",
    "resp = llm.stream_chat(messages)"
   ]
  },
  {
   "cell_type": "code",
   "execution_count": null,
   "metadata": {},
   "outputs": [
    {
     "name": "stdout",
     "output_type": "stream",
     "text": [
      "Ahoy there, matey! Let's set sail on a culinary adventure and find the perfect dinner for ye. Here be some options to consider:\n",
      "\n",
      "1. **Fish and Chips:** Embark on a classic voyage with a hearty portion of golden-fried fish, accompanied by crispy chips. Dip 'em in tartar sauce for a taste that'll make ye shiver me timbers!\n",
      "\n",
      "2. **Lobster Thermidor:** Indulge in a luxurious feast fit for a pirate king. Tender lobster meat, bathed in a creamy, cheesy sauce, will have ye feeling like royalty.\n",
      "\n",
      "3. **Paella:** Set your course for Spain and savor a vibrant paella. This colorful dish combines rice, seafood, and vegetables in a saffron-infused broth. Ahoy, it's a feast for the eyes and the belly!\n",
      "\n",
      "4. **Surf and Turf:** Experience the best of both worlds with a succulent steak paired with grilled shrimp or lobster. This hearty meal will satisfy even the hungriest of scallywags.\n",
      "\n",
      "5. **Jambalaya:** Embark on a culinary journey to New Orleans with a spicy jambalaya. This Creole dish features rice, shrimp, chicken, andouille sausage, and a whole lot of flavor.\n",
      "\n",
      "6. **Coconut Shrimp:** Transport yourself to a tropical paradise with coconut shrimp. These crispy, golden-brown shrimp are coated in a sweet and savory coconut batter. Dip 'em in a tangy dipping sauce for a taste of the islands.\n",
      "\n",
      "7. **Crab Cakes:** Dive into a delicious platter of crab cakes. Made with fresh crab meat, these savory cakes are pan-fried to perfection and served with a zesty remoulade sauce.\n",
      "\n",
      "8. **Scallops:** Set sail for a seafood extravaganza with seared scallops. These tender, juicy scallops are cooked to perfection and served with a variety of sauces, from classic butter and lemon to a creamy white wine sauce.\n",
      "\n",
      "9. **Lobster Rolls:** Embark on a New England adventure with a classic lobster roll. Fresh lobster meat is piled high on a toasted bun and dressed with mayonnaise, lemon juice, and celery. It's a taste of the sea that'll leave ye wanting more.\n",
      "\n",
      "10. **Oysters Rockefeller:** Indulge in a taste of opulence with oysters Rockefeller. These briny bivalves are baked with a rich, creamy spinach and cheese sauce. Ahoy, they're a true delicacy!\n",
      "\n",
      "No matter what ye choose, make sure it's a meal that'll satisfy yer hunger and leave ye with a smile on yer face. Bon appétit, matey!"
     ]
    }
   ],
   "source": [
    "for chunk in resp:\n",
    "    print(chunk.message.content, end=\"\")"
   ]
  },
  {
   "cell_type": "markdown",
   "metadata": {},
   "source": [
    "## Using other models\n",
    "\n",
    "The [Gemini model site](https://ai.google.dev/models) lists the models that are currently available, along with their capabilities. You can also use the API to find suitable models."
   ]
  },
  {
   "cell_type": "code",
   "execution_count": null,
   "metadata": {},
   "outputs": [
    {
     "name": "stdout",
     "output_type": "stream",
     "text": [
      "models/gemini-pro\n",
      "models/gemini-pro-vision\n",
      "models/gemini-ultra\n"
     ]
    }
   ],
   "source": [
    "import google.generativeai as genai\n",
    "\n",
    "for m in genai.list_models():\n",
    "    if \"generateContent\" in m.supported_generation_methods:\n",
    "        print(m.name)"
   ]
  },
  {
   "cell_type": "code",
   "execution_count": null,
   "metadata": {},
   "outputs": [],
   "source": [
    "from llama_index.llms import Gemini\n",
    "\n",
    "llm = Gemini(model=\"models/gemini-pro\")"
   ]
  },
  {
   "cell_type": "code",
   "execution_count": null,
   "metadata": {},
   "outputs": [
    {
     "name": "stdout",
     "output_type": "stream",
     "text": [
      "In the realm of knowledge, where wisdom resides,\n",
      "A beacon of brilliance, LlamaIndex abides.\n",
      "With a click and a search, a world unfolds,\n",
      "Where information's treasures are revealed, untold.\n",
      "\n",
      "From history's annals to science's might,\n",
      "LlamaIndex guides us, shining its light.\n",
      "A tapestry of knowledge, woven with care,\n",
      "Unveiling the secrets that lie hidden there.\n",
      "\n",
      "With every query, a journey takes flight,\n",
      "As LlamaIndex unveils the wonders of sight.\n",
      "Through articles and essays, we explore,\n",
      "Expanding our minds, forevermore.\n",
      "\n",
      "So let us celebrate, with hearts full of glee,\n",
      "The marvel of LlamaIndex, for all to see.\n",
      "A treasure trove of knowledge, at our command,\n",
      "Guiding us forward, hand in hand.\n"
     ]
    }
   ],
   "source": [
    "resp = llm.complete(\"Write a short, but joyous, ode to LlamaIndex\")\n",
    "print(resp)"
   ]
  },
  {
   "cell_type": "markdown",
   "metadata": {},
   "source": [
    "## Asynchronous API"
   ]
  },
  {
   "cell_type": "code",
   "execution_count": null,
   "metadata": {},
   "outputs": [],
   "source": [
    "from llama_index.llms import Gemini\n",
    "\n",
    "llm = Gemini()"
   ]
  },
  {
   "cell_type": "code",
   "execution_count": null,
   "metadata": {},
   "outputs": [
    {
     "name": "stdout",
     "output_type": "stream",
     "text": [
      "1. **Wool**: Llamas are known for their soft, warm, and durable wool. It is hypoallergenic, water-resistant, and comes in a variety of natural colors, including white, brown, black, and gray. Llama wool is often used to make high-quality textiles, such as sweaters, blankets, and ponchos.\n",
      "\n",
      "2. **Pack Animals**: Llamas have been traditionally used as pack animals in the Andes Mountains of South America. They are strong, sure-footed, and can carry heavy loads over long distances. Llamas are also relatively low-maintenance animals, making them a practical choice for transporting goods in challenging terrain.\n",
      "\n",
      "3. **Meat**: Llama meat is a lean and nutritious source of protein. It is lower in fat and cholesterol than beef or pork and is considered a delicacy in some cultures. Llama meat is often used in traditional Andean dishes, such as stews, soups, and roasts.\n",
      "\n",
      "4. **Companionship**: Llamas are intelligent and social animals that can form strong bonds with humans. They are often kept as companion animals due to their gentle nature and calm demeanor. Llamas can be trained to perform tricks and enjoy interacting with people.\n",
      "\n",
      "5. **Tourism**: Llamas are popular attractions at zoos, farms, and tourist destinations. Their unique appearance, gentle nature, and historical significance make them a favorite among visitors. Llama trekking and llama-related activities are popular tourist attractions in many parts of the world.\n",
      "\n",
      "6. **Cultural Symbol**: Llamas hold a special place in Andean culture and are considered sacred animals by many indigenous communities. They are often featured in traditional art, folklore, and religious ceremonies. Llamas are also symbols of strength, endurance, and prosperity in Andean cultures.\n"
     ]
    }
   ],
   "source": [
    "resp = await llm.acomplete(\"Llamas are famous for \")\n",
    "print(resp)"
   ]
  },
  {
   "cell_type": "code",
   "execution_count": null,
   "metadata": {},
   "outputs": [
    {
     "name": "stdout",
     "output_type": "stream",
     "text": [
      "1. **Wool**: Llamas are known for their soft, warm, and durable wool. It is hypoallergenic, water-resistant, and comes in a variety of natural colors, including white, brown, black, and gray. Llama wool is often used to make high-quality textiles, such as sweaters, blankets, and scarves.\n",
      "\n",
      "2. **Pack Animals**: Llamas have been traditionally used as pack animals in the Andes Mountains of South America. They are sure-footed, strong, and can carry up to 25% of their body weight for long distances. Llamas are often used to transport goods and supplies in mountainous regions where vehicles cannot easily access.\n",
      "\n",
      "3. **Guard Animals**: Llamas are also used as guard animals to protect livestock from predators, such as coyotes, dogs, and mountain lions. They are territorial and protective by nature and will often chase away potential threats. Llamas are particularly effective in protecting sheep and alpacas.\n",
      "\n",
      "4. **Companionship**: Llamas are social animals and can form strong bonds with humans. They are intelligent, curious, and playful, making them enjoyable companions. Llamas are often kept as pets or therapy animals due to their gentle and friendly nature.\n",
      "\n",
      "5. **Meat and Milk**: While not as common as other livestock, llamas can also be raised for their meat and milk. Llama meat is lean and flavorful, and llama milk is rich in protein and calcium. However, llama meat and milk production are not as widespread as other livestock due to the relatively small population of llamas compared to other animals."
     ]
    }
   ],
   "source": [
    "resp = await llm.astream_complete(\"Llamas are famous for \")\n",
    "async for chunk in resp:\n",
    "    print(chunk.text, end=\"\")"
   ]
  }
 ],
 "metadata": {
  "colab": {
   "name": "gemini.ipynb",
   "toc_visible": true
  },
  "kernelspec": {
   "display_name": "Python 3",
   "name": "python3"
  }
 },
 "nbformat": 4,
 "nbformat_minor": 0
}
